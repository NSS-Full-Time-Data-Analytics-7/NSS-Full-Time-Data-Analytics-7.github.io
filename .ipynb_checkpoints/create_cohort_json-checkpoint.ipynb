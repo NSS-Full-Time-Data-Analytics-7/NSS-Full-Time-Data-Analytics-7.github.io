{
 "cells": [
  {
   "cell_type": "markdown",
   "metadata": {},
   "source": [
    "To run this you will need to be at the same directory level as `utilities`\n",
    "\n",
    "If you haven't already cloned the `utilities` repo, you can find it here: https://github.com/NSS-Data-Instructional-Stuff/utilities\n",
    "\n",
    "If you run this from another location, you will have to modify the import statement accordingly"
   ]
  },
  {
   "cell_type": "code",
   "execution_count": 1,
   "metadata": {},
   "outputs": [],
   "source": [
    "from utilities import class_website"
   ]
  },
  {
   "cell_type": "code",
   "execution_count": 2,
   "metadata": {},
   "outputs": [],
   "source": [
    "path_to_csv = (\"C:/Users/14436/Documents/DDA7/NSS-Full-Time-Data-Analytics-7.github.io/dda7_class_website_info.csv\")"
   ]
  },
  {
   "cell_type": "code",
   "execution_count": 3,
   "metadata": {},
   "outputs": [
    {
     "name": "stdout",
     "output_type": "stream",
     "text": [
      "cohort.json created: C:/Users/14436/Documents/DDA7/NSS-Full-Time-Data-Analytics-7.github.io/cohort.json\n"
     ]
    }
   ],
   "source": [
    "class_website.make_cohort_json(path_to_csv)"
   ]
  },
  {
   "cell_type": "code",
   "execution_count": 4,
   "metadata": {},
   "outputs": [],
   "source": [
    "img_dir = (\"C:/Users/14436/Documents/DDA7/NSS-Full-Time-Data-Analytics-7.github.io/assets/img\")"
   ]
  },
  {
   "cell_type": "code",
   "execution_count": 5,
   "metadata": {},
   "outputs": [
    {
     "name": "stdout",
     "output_type": "stream",
     "text": [
      "max_ar:  0.994140625\n",
      "anjana1.jpg does not have dpi attribute\n",
      "new height for anjana1.jpg:  644\n",
      "anjana2.jpg does not have dpi attribute\n",
      "new width for austin1.jpg:  509\n",
      "austin2.jpg does not have dpi attribute\n",
      "new width for berhan1.jpg:  509\n",
      "berhan2.jpg does not have dpi attribute\n",
      "new width for bruna1.jpg:  509\n",
      "bruna2.jpg does not have dpi attribute\n",
      "new height for colina1.jpg:  512\n",
      "colina2.jpg does not have dpi attribute\n",
      "new height for colins1.jpg:  4506\n",
      "colins2.jpg does not have dpi attribute\n",
      "new width for da1.jpg:  509\n",
      "da2.jpg does not have dpi attribute\n",
      "dda7_class_picture.jpg does not have dpi attribute\n",
      "new width for demetria1.jpg:  509\n",
      "demetria2.jpg does not have dpi attribute\n",
      "new height for kelly1.jpg:  4506\n",
      "kelly2.jpg does not have dpi attribute\n",
      "lauren1.jpg does not have dpi attribute\n",
      "new width for lauren1.jpg:  4058\n",
      "lauren2.jpg does not have dpi attribute\n",
      "new width for martin1.jpg:  509\n",
      "martin2.jpg does not have dpi attribute\n",
      "new width for michael1.jpg:  509\n",
      "michael2.jpg does not have dpi attribute\n",
      "new width for mitl1.jpg:  509\n",
      "mitl2.jpg does not have dpi attribute\n",
      "new width for monica1.jpg:  509\n",
      "monica2.jpg does not have dpi attribute\n",
      "new width for mylah1.JPG:  1789\n",
      "new width for patrick1.jpg:  509\n",
      "new width for rocky1.jpg:  509\n",
      "rocky2.jpg does not have dpi attribute\n",
      "new width for rodney1.jpg:  509\n",
      "rodney2.jpg does not have dpi attribute\n",
      "new width for seth1.jpg:  509\n",
      "seth2.jpg does not have dpi attribute\n",
      "new width for shenouda1.jpg:  509\n",
      "shenouda2.jpg does not have dpi attribute\n",
      "new height for tony1.jpg:  437\n",
      "tony2.jpg does not have dpi attribute\n",
      "new height for zoe1.jpg:  4506\n",
      "zoe2.jpg does not have dpi attribute\n",
      "prepared all images in C:/Users/14436/Documents/DDA7/NSS-Full-Time-Data-Analytics-7.github.io/assets/img\n"
     ]
    }
   ],
   "source": [
    "class_website.prepare_images(img_dir)"
   ]
  },
  {
   "cell_type": "code",
   "execution_count": null,
   "metadata": {},
   "outputs": [],
   "source": []
  }
 ],
 "metadata": {
  "kernelspec": {
   "display_name": "Python 3 (ipykernel)",
   "language": "python",
   "name": "python3"
  },
  "language_info": {
   "codemirror_mode": {
    "name": "ipython",
    "version": 3
   },
   "file_extension": ".py",
   "mimetype": "text/x-python",
   "name": "python",
   "nbconvert_exporter": "python",
   "pygments_lexer": "ipython3",
   "version": "3.8.3"
  }
 },
 "nbformat": 4,
 "nbformat_minor": 4
}
