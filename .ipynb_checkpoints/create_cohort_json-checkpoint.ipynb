{
 "cells": [
  {
   "cell_type": "markdown",
   "metadata": {},
   "source": [
    "To run this you will need to be at the same directory level as `utilities`\n",
    "\n",
    "If you haven't already cloned the `utilities` repo, you can find it here: https://github.com/NSS-Data-Instructional-Stuff/utilities\n",
    "\n",
    "If you run this from another location, you will have to modify the import statement accordingly"
   ]
  },
  {
   "cell_type": "code",
   "execution_count": 1,
   "metadata": {},
   "outputs": [],
   "source": [
    "from utilities import class_website"
   ]
  },
  {
   "cell_type": "code",
   "execution_count": 2,
   "metadata": {},
   "outputs": [],
   "source": [
    "path_to_csv = (\"C:/Users/14436/Documents/DDA7/NSS-Full-Time-Data-Analytics-7.github.io/dda7_class_website_info.csv\")"
   ]
  },
  {
   "cell_type": "code",
   "execution_count": 3,
   "metadata": {},
   "outputs": [
    {
     "name": "stdout",
     "output_type": "stream",
     "text": [
      "cohort.json created: C:/Users/14436/Documents/DDA6/NSS-Full-Time-Data-Analytics-6.github.io/cohort.json\n"
     ]
    }
   ],
   "source": [
    "class_website.make_cohort_json(path_to_csv)"
   ]
  },
  {
   "cell_type": "code",
   "execution_count": 4,
   "metadata": {},
   "outputs": [],
   "source": [
    "img_dir = (\"C:/Users/14436/Documents/DDA7/NSS-Full-Time-Data-Analytics-7.github.io/assets/img\")"
   ]
  },
  {
   "cell_type": "code",
   "execution_count": 5,
   "metadata": {},
   "outputs": [
    {
     "name": "stdout",
     "output_type": "stream",
     "text": [
      "max_ar:  0.889763779527559\n",
      "new height for alex1.jfif:  363\n",
      "alex1.jpg does not have dpi attribute\n",
      "new height for alex1.jpg:  363\n",
      "alex2.jpg does not have dpi attribute\n",
      "new height for brent1.jpg:  1266\n",
      "brent2.JPG does not have dpi attribute\n",
      "new height for dave1.jpg:  1874\n",
      "new height for emma1.jpg:  728\n",
      "new height for jeremy1.jpg:  2646\n",
      "new height for kenny1.jpg:  2273\n",
      "kenny2.jpg does not have dpi attribute\n",
      "new height for kyle1.jpg:  508\n",
      "new height for mariah1.jpeg:  2385\n",
      "mariah1.jpg does not have dpi attribute\n",
      "new height for mariah1.jpg:  2385\n",
      "mariah2.jpg does not have dpi attribute\n",
      "new height for nick1.jpg:  151\n",
      "new height for nirmaladevi1.jpg:  5035\n",
      "new height for oliver1.jpeg:  2449\n",
      "oliver1.jpg does not have dpi attribute\n",
      "new height for oliver1.jpg:  2449\n",
      "oliver2.jpg does not have dpi attribute\n",
      "new height for parker1.jpeg:  447\n",
      "parker1.jpg does not have dpi attribute\n",
      "new height for parker1.jpg:  447\n",
      "parker2.jpg does not have dpi attribute\n",
      "new height for ronit1.jpg:  144\n",
      "new height for sara1.jpg:  4675\n",
      "sara2.jpg does not have dpi attribute\n",
      "new height for sobiya1.jpg:  466\n",
      "sobiya2.jpg does not have dpi attribute\n",
      "new height for stephen1.jfif:  406\n",
      "stephen1.jpg does not have dpi attribute\n",
      "new height for stephen1.jpg:  406\n",
      "stephen2.jpg does not have dpi attribute\n",
      "new height for theodore1.jfif:  455\n",
      "theodore1.jpg does not have dpi attribute\n",
      "new height for theodore1.jpg:  455\n",
      "theodore2.jpg does not have dpi attribute\n",
      "new height for tim1.jpg:  705\n",
      "tim2.JPG does not have dpi attribute\n",
      "new height for william1.jpg:  430\n",
      "william2.jpg does not have dpi attribute\n",
      "new height for yonas1.jpg:  507\n",
      "yonas2.jpg does not have dpi attribute\n",
      "new height for zenon1.jpg:  441\n",
      "zenon2.jpg does not have dpi attribute\n",
      "prepared all images in C:/Users/14436/Documents/DDA6/NSS-Full-Time-Data-Analytics-6.github.io/assets/img\n"
     ]
    }
   ],
   "source": [
    "class_website.prepare_images(img_dir)"
   ]
  },
  {
   "cell_type": "code",
   "execution_count": null,
   "metadata": {},
   "outputs": [],
   "source": []
  }
 ],
 "metadata": {
  "kernelspec": {
   "display_name": "Python 3 (ipykernel)",
   "language": "python",
   "name": "python3"
  },
  "language_info": {
   "codemirror_mode": {
    "name": "ipython",
    "version": 3
   },
   "file_extension": ".py",
   "mimetype": "text/x-python",
   "name": "python",
   "nbconvert_exporter": "python",
   "pygments_lexer": "ipython3",
   "version": "3.8.3"
  }
 },
 "nbformat": 4,
 "nbformat_minor": 4
}
